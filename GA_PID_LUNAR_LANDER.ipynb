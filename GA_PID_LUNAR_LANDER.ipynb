{
 "cells": [
  {
   "cell_type": "markdown",
   "metadata": {},
   "source": [
    "# Automatisierte Lösung für OpenAIs LunarLander mit genetischen Algorithmen in Verbindung mit PID-Controllern"
   ]
  },
  {
   "cell_type": "markdown",
   "metadata": {},
   "source": [
    "@Autor Michael Greif"
   ]
  },
  {
   "cell_type": "markdown",
   "metadata": {},
   "source": [
    "## Benutzte Bibliotheken"
   ]
  },
  {
   "cell_type": "markdown",
   "metadata": {},
   "source": [
    "Bibliotheksreferenzen\n",
    "- OpenAI Gymnasium: https://gymnasium.farama.org/\n",
    "- NumPy: https://numpy.org/\n",
    "- Random: https://docs.python.org/3/library/random.html\n",
    "- Matplotlib: https://matplotlib.org/"
   ]
  },
  {
   "cell_type": "code",
   "execution_count": 20,
   "metadata": {},
   "outputs": [],
   "source": [
    "import gymnasium as gym\n",
    "import numpy as np\n",
    "import random\n",
    "import matplotlib.pyplot as plt"
   ]
  },
  {
   "cell_type": "markdown",
   "metadata": {},
   "source": [
    "## PID-Controller"
   ]
  },
  {
   "cell_type": "markdown",
   "metadata": {},
   "source": [
    "Der PID-Controller im folgenden Code ist eine Implementierung eines Proportional-Integral-Derivative (PID) Reglers, der in Steuerungssystemen weit verbreitet ist. Dieser Regler zielt darauf ab, eine dynamische Prozesssteuerung zu ermöglichen, indem er kontinuierlich die Differenz (Fehler) zwischen einem gewünschten Sollwert und einem aktuellen Istwert analysiert und darauf reagiert. Der PID-Regler beeinflusst den Steuerungsoutput durch drei \n",
    "\n",
    "**Kernkomponenten**:\n",
    "\n",
    "- **Proportionaler Anteil (Kp)**: Dieser Teil des Reglers reagiert direkt proportional zum aktuellen Fehlerwert. Er veranlasst umso stärkere Anpassungen, je weiter der Istwert vom Sollwert abweicht. Ein gut abgestimmter Kp-Wert hilft, schnelle Korrekturen vorzunehmen, kann aber auch zu Instabilitäten führen, wenn er zu hoch ist.\n",
    "\n",
    "- **Integraler Anteil (Ki)**: Der Integralaspekt adressiert die Summe der vergangenen Fehler über die Zeit. Er korrigiert stetige Abweichungen, die sich im Zeitverlauf aufsummieren, und sorgt dafür, dass der Regler keine dauerhafte Diskrepanz zwischen Soll- und Istwert besitzt.\n",
    "\n",
    "- **Derivativer Anteil (Kd)**: Dieser Bestandteil gibt Aufschluss über die Geschwindigkeit der Fehlerveränderung und ist entscheidend zur Dämpfung des Systems. Er reduziert die Reaktion auf große Fehler, wenn der Istwert schnell auf den Sollwert zusteuert, und verhindert Überschwinger.\n",
    "\n",
    "Die Methode `update` des PID-Controllers berechnet den Steuerungsoutput basierend auf den Werten dieser drei Parameter und dem gegebenen Fehler. Die Methode `reset` dient zur Initialisierung der vorhergehenden Fehler und der Integralsumme, falls ein Neustart oder ein erneuter Steuerprozess notwendig ist."
   ]
  },
  {
   "cell_type": "code",
   "execution_count": 21,
   "metadata": {},
   "outputs": [],
   "source": [
    "class PIDController:\n",
    "    def __init__(self, Kp, Ki, Kd):\n",
    "        # Initialisiert den PID-Controller mit den gegebenen Koeffizienten\n",
    "        self.Kp = Kp\n",
    "        self.Ki = Ki\n",
    "        self.Kd = Kd\n",
    "        self.prev_error = 0\n",
    "        self.integral = 0\n",
    "\n",
    "    def reset(self):\n",
    "        # Setzt die gespeicherten Zustände zurück\n",
    "        self.prev_error = 0\n",
    "        self.integral = 0\n",
    "\n",
    "    def update(self, error, dt):\n",
    "        # Berechnet den Ausgang des PID-Reglers auf Basis des aktuellen Fehlers\n",
    "        self.integral += error * dt\n",
    "        derivative = (error - self.prev_error) / dt\n",
    "        output = self.Kp * error + self.Ki * self.integral + self.Kd * derivative\n",
    "        self.prev_error = error\n",
    "        return output"
   ]
  },
  {
   "cell_type": "markdown",
   "metadata": {},
   "source": [
    "## Genetischer Trainingsalgorithmus"
   ]
  },
  {
   "cell_type": "markdown",
   "metadata": {},
   "source": [
    "Die `GeneticAlgorithm`-Klasse stellt eine Methode zur Optimierung von PID-Parameter-Sätzen dar, um die Steuerungseffizienz des LunarLanders in der OpenAI Gym-Umgebung zu maximieren. Der genetische Algorithmus ist von biologischen Evolutionstechniken inspiriert und beinhaltet die Prinzipien der natürlichen Selektion, Kreuzung und Mutation, um über Generationen hinweg qualitativ hochwertige Lösungen zu entwickeln.\n",
    "\n",
    "**Hauptkomponenten der `GeneticAlgorithm`-Klasse**:\n",
    "- **Initialisierung**: Der Algorithmus beginnt mit einer zufällig generierten Population von Individuen, wobei jedes Individuum einen Satz von neun PID-Parameterwerten repräsentiert.\n",
    "\n",
    "- **Fitnessfunktion**: Jedes Individuum wird basierend auf seiner Fähigkeit bewertet, den Lander in der simulierten Umgebung zu steuern. Die Fitness wird durch den erzielten durchschnittlichen Score über mehrere Episoden hinweg ermittelt, wobei dieser Score die Effektivität des PID-Reglers widerspiegelt.\n",
    "\n",
    "- **Mutation und Crossover**: Die Methoden zur Mutation und Kreuzung erlauben es dem Algorithmus, neue Individuen zu generieren. Mutationen bringen zufällige Veränderungen ein, während die Kreuzung es zwei Elternteilen ermöglicht, ihre Eigenschaften zu einem Kind zu kombinieren. Diese Mechanismen tragen zur genetischen Vielfalt bei und helfen dem Algorithmus, lokale Maxima zu vermeiden.\n",
    "\n",
    "- **Iterative Optimierung**: Der Algorithmus durchläuft mehrere Generationen und wählt die fittesten Individuen aus jeder Generation aus, um eine neue Population zu erstellen. Im Laufe der Zeit sollte sich die Gesamtfitness der Population erhöhen, was zur Identifizierung der am besten geeigneten PID-Parameter für die Steuerung des Landers führt.\n",
    "\n",
    "Am Ende der Ausführung liefert die `run`-Methode den besten gefundenen Satz an PID-Parametern sowie eine Historie der Fitnesswerte der besten Individuen aus jeder Generation, was wertvolle Einblicke in die Optimierungsleistung des Algorithmus bietet"
   ]
  },
  {
   "cell_type": "code",
   "execution_count": 22,
   "metadata": {},
   "outputs": [],
   "source": [
    "class GeneticAlgorithm:\n",
    "    def __init__(self, population_size, mutation_rate, num_generations, n_episodes):\n",
    "        \"\"\"\n",
    "        Initialisiert die Parameter des genetischen Algorithmus.\n",
    "        \n",
    "        Parameters:\n",
    "        - population_size: Die Anzahl der Individuen in der Population.\n",
    "        - mutation_rate: Die Rate, mit der Mutationen auftreten.\n",
    "        - num_generations: Die Anzahl der Generationen, über die der Algorithmus läuft.\n",
    "        - n_episodes: Die Anzahl der Episoden zur Bewertung der Individuenfitness.\n",
    "        \"\"\"\n",
    "        self.population_size = population_size\n",
    "        self.mutation_rate = mutation_rate\n",
    "        self.num_generations = num_generations\n",
    "        self.n_episodes = n_episodes\n",
    "\n",
    "    def initialize_population(self):\n",
    "        \"\"\"\n",
    "        Erzeugt eine initiale Population mit zufälligen Individuen.\n",
    "        \n",
    "        Returns:\n",
    "        - Eine Liste von zufällig initialisierten Individuen.\n",
    "        \"\"\"\n",
    "        return [np.random.rand(9) * 4.0 for _ in range(self.population_size)]\n",
    "\n",
    "    def fitness(self, individual):\n",
    "        \"\"\"\n",
    "        Bewertet die Fitness eines Individuums durch Simulation in der Umgebung.\n",
    "        \n",
    "        Parameters:\n",
    "        - individual: Ein Array aus PID-Parametern, das bewertet wird.\n",
    "        \n",
    "        Returns:\n",
    "        - Der durchschnittliche erzielte Score über alle Episoden.\n",
    "        \"\"\"\n",
    "        vertical_params = individual[0:3]\n",
    "        horizontal_params = individual[3:6]\n",
    "        angle_params = individual[6:9]\n",
    "        \n",
    "        env = gym.make(\"LunarLander-v3\", render_mode=None, gravity=-10.0)\n",
    "        vertical_pid = PIDController(*vertical_params)\n",
    "        horizontal_pid = PIDController(*horizontal_params)\n",
    "        angle_pid = PIDController(*angle_params)\n",
    "        \n",
    "        total_rewards = []\n",
    "        \n",
    "        for episode in range(self.n_episodes):\n",
    "            state, _ = env.reset()\n",
    "            vertical_pid.reset()\n",
    "            horizontal_pid.reset()\n",
    "            angle_pid.reset()\n",
    "            total_reward = 0\n",
    "            done = False\n",
    "            \n",
    "            while not done:\n",
    "                coord_x, coord_y, velocity_x, velocity_y, angle, velocity_angle, left_foot, right_food = state\n",
    "                \n",
    "                # Zielwerte definiert\n",
    "                target_y = 0.0\n",
    "                target_x = 0.0\n",
    "                target_angle = 0.0\n",
    "\n",
    "                # Fehlerberechnungen\n",
    "                y_error = target_y - coord_y - velocity_y * 2\n",
    "                x_error = target_x + coord_x + velocity_x * 2\n",
    "                angle_error = target_angle - angle - velocity_angle\n",
    "                \n",
    "                dt = 1.0 / 50.0 \n",
    "\n",
    "                # Berechnet die Actions basierend auf den PID-Updates\n",
    "                y_action = vertical_pid.update(y_error, dt)\n",
    "                x_action = horizontal_pid.update(x_error, dt)\n",
    "                theta_action = angle_pid.update(angle_error, dt)\n",
    "\n",
    "                # Bestimmt vertikale, horizontale und Winkelaktionen\n",
    "                vertical_action = 2 if y_action > 0 else 0\n",
    "                horizontal_action = 1 if x_action > 0 else 3\n",
    "                angle_action = 1 if theta_action > 0 else 3\n",
    "\n",
    "                action = vertical_action\n",
    "                if vertical_action == 0:\n",
    "                    action = horizontal_action if abs(x_action) > abs(theta_action) else angle_action\n",
    "\n",
    "                state, reward, done, _, _ = env.step(action)\n",
    "                if left_foot and right_food and abs(velocity_y) < 0.005:\n",
    "                    done = True\n",
    "                total_reward += reward\n",
    "            \n",
    "            total_rewards.append(total_reward)\n",
    "\n",
    "        env.close()\n",
    "        return np.mean(total_rewards)\n",
    "\n",
    "    def mutate(self, individual):\n",
    "        \"\"\"\n",
    "        Führt Mutationen an einem Individuum durch.\n",
    "        \n",
    "        Parameters:\n",
    "        - individual: Ein zu mutierendes Individuum.\n",
    "        \n",
    "        Returns:\n",
    "        - Das mutierte Individuum.\n",
    "        \"\"\"\n",
    "        for i in range(individual.shape[0]):\n",
    "            if np.random.rand() < self.mutation_rate:\n",
    "                individual[i] += np.random.normal(0, 1)\n",
    "        return individual\n",
    "\n",
    "    def crossover(self, parent1, parent2):\n",
    "        \"\"\"\n",
    "        Kombiniert zwei Elternteile zu einem neuen Kind-Individuum.\n",
    "        \n",
    "        Parameters:\n",
    "        - parent1: Erster Eltern-Individuum.\n",
    "        - parent2: Zweiter Eltern-Individuum.\n",
    "        \n",
    "        Returns:\n",
    "        - Das erzeugte Kind-Individuum.\n",
    "        \"\"\"\n",
    "        assert len(parent1) == len(parent2) == 9, \"Beide Elternteile sollten 9 Elemente haben\"\n",
    "        crossover_point = np.random.randint(len(parent1))\n",
    "        child = np.concatenate((parent1[:crossover_point], parent2[crossover_point:]))\n",
    "        return child\n",
    "\n",
    "    def run(self):\n",
    "        \"\"\"\n",
    "        Führt den genetischen Algorithmus aus, um den besten PID-Parameter-Satz zu finden.\n",
    "        \n",
    "        Returns:\n",
    "        - best_individual: Das beste gefundene Individuum mit optimierten PID-Parametern.\n",
    "        - total_fitness: Eine Liste der Fitnesswerte der besten Individuen über Generationen.\n",
    "        \"\"\"\n",
    "        total_fitness = []\n",
    "        population = self.initialize_population()\n",
    "\n",
    "        for generation in range(self.num_generations):\n",
    "            population_fitness = [self.fitness(ind) for ind in population]\n",
    "            sorted_indices = np.argsort(population_fitness)\n",
    "            population = [population[i] for i in sorted_indices]\n",
    "            best_individual = population[-1]\n",
    "            print(f\"Generation {generation + 1}, Best Fitness: {population_fitness[sorted_indices[-1]]}\")\n",
    "            total_fitness.append(population_fitness[sorted_indices[-1]])\n",
    "            next_generation = population[-10:]\n",
    "\n",
    "            while len(next_generation) < self.population_size:\n",
    "                parent1, parent2 = random.sample(population[-20:], 2)\n",
    "                child = self.crossover(parent1, parent2)\n",
    "                self.mutate(child)\n",
    "                next_generation.append(child)\n",
    "\n",
    "            population = next_generation\n",
    "\n",
    "        return best_individual, total_fitness"
   ]
  },
  {
   "cell_type": "markdown",
   "metadata": {},
   "source": [
    "## Testfunktion der PID-Controller"
   ]
  },
  {
   "cell_type": "markdown",
   "metadata": {},
   "source": [
    "Die Funktion `play_with_best_params` ermöglicht es, die Effektivität eines optimierten Satzes von PID-Parameterwerten direkt in der „LunarLander-v3“-Gym-Umgebung zu evaluieren. Diese Funktion stellt sicher, dass die Leistungsfähigkeit der zuvor mittels des genetischen Algorithmus ermittelten besten Parameter überprüft und veranschaulicht wird.\n",
    "\n",
    "**Hauptbestandteile der `play_with_best_params`-Funktion**:\n",
    "- **Umgebungskonfiguration**: Es wird eine LunarLander-v3-Umgebung mit einer einstellbaren Darstellung (`render_mode`) und einem modifizierten Gravitationswert erstellt, um realistische Testbedingungen zu simulieren.\n",
    "\n",
    "- **PID-Regler**: Drei PID-Regler werden auf Basis der übergebenen Parameter für die vertikale Position, horizontale Bewegung und Neigung (Winkel) des Landers initialisiert. Diese Regler berechnen kontinuierlich die erforderlichen Anpassungen, um den Lander stabil und präzise zu steuern.\n",
    "\n",
    "- **Episode-Kontinuum**: In einer festgelegten Anzahl von Episoden (`n_episodes`) wird der Verlauf simuliert. Innerhalb jeder Episode wird der Lander in der Umgebung durch einen iterativen Regelprozess gesteuert:\n",
    "\n",
    "  1. **Fehlerberechnungen**: Die Funktion berechnet kontinuierlich die Fehler im Vergleich zu den Zielzuständen für Position und Winkel.\n",
    "\n",
    "  2. **PID-Updates**: Basierend auf den berechneten Fehlern und der verstrichenen Zeit (`dt`) steuert der PID-Regler die Bodenantriebsaktionen des Landers.\n",
    "\n",
    "  3. **Aktionsentscheidung**: Basierend auf den PID-Outputs werden die Steueraktionen des Landers entschieden, um die Richtung und Intensität der Triebwerke zu bestimmen.\n",
    "\n",
    "  4. **Sammeln von Ergebnissen**: Jeder Durchgang endet, wenn der Lander erfolgreich landet (bei geringen Geschwindigkeiten) und das Episode-Ergebnis (Score) wird aufgezeichnet.\n",
    "\n",
    "- Ausgabe der Leistung: Nach allen Episoden wird der mittlere erzielte Score über alle Durchläufe zusammen mit Details zu jedem Landeversuch ausgegeben. Dies ermöglicht eine Analyse, wie gut die optimierten PID-Parameter in realen Szenarien funktionieren."
   ]
  },
  {
   "cell_type": "code",
   "execution_count": 23,
   "metadata": {},
   "outputs": [],
   "source": [
    "def play_with_best_params(params, n_episodes=10, render_mode='human'):\n",
    "    \"\"\"\n",
    "    Testet die Leistung der besten PID-Parameter in der LunarLander-Umgebung.\n",
    "    \n",
    "    Parameters:\n",
    "    - params: Eine Liste von PID-Parametern in der Form [Kp1, Ki1, Kd1, Kp2, Ki2, Kd2, Kp3, Ki3, Kd3].\n",
    "    - n_episodes: Die Anzahl der Episoden, die in der Simulation abgespielt werden sollen.\n",
    "    - render_mode: Der Modus der Darstellung, standardmäßig auf 'human' für visuelle Ausgabe gesetzt.\n",
    "    \"\"\"\n",
    "    # Initialisiert die Umgebung für den LunarLander\n",
    "    env = gym.make(\"LunarLander-v3\", render_mode=render_mode, gravity=-10.0)\n",
    "    \n",
    "    # Erzeugt PID-Regler mit den übergebenen Parametern\n",
    "    vertical_pid = PIDController(*params[:3])\n",
    "    horizontal_pid = PIDController(*params[3:6])\n",
    "    angle_pid = PIDController(*params[6:9])\n",
    "    \n",
    "    total_rewards = []\n",
    "\n",
    "    for episode in range(n_episodes):\n",
    "        state, _ = env.reset()\n",
    "        vertical_pid.reset()\n",
    "        horizontal_pid.reset()\n",
    "        angle_pid.reset()\n",
    "        total_reward = 0\n",
    "        done = False\n",
    "        \n",
    "        while not done:\n",
    "            coord_x, coord_y, velocity_x, velocity_y, angle, velocity_angle, left_foot, right_food = state\n",
    "            \n",
    "            # Definiert Zielwerte als Referenzpunkte\n",
    "            target_y = 0.0\n",
    "            target_x = 0.0\n",
    "            target_angle = 0.0\n",
    "\n",
    "            # Berechnet die Abweichungen bezüglich der Ziele\n",
    "            y_error = target_y - coord_y - velocity_y * 2\n",
    "            x_error = target_x + coord_x + velocity_x * 2\n",
    "            angle_error = target_angle - angle - velocity_angle\n",
    "            \n",
    "            dt = 1.0 / 50.0  # Zeitdifferenz für die PID-Berechnung\n",
    "\n",
    "            # Aktualisiert die PID-Regler und erhält Steueraktionen\n",
    "            y_action = vertical_pid.update(y_error, dt)\n",
    "            x_action = horizontal_pid.update(x_error, dt)\n",
    "            theta_action = angle_pid.update(angle_error, dt)\n",
    "\n",
    "            # Bestimmt die Aktionsstrategie basierend auf den PID-Ausgaben\n",
    "            vertical_action = 2 if y_action > 0 else 0\n",
    "            horizontal_action = 1 if x_action > 0 else 3\n",
    "            angle_action = 1 if theta_action > 0 else 3\n",
    "\n",
    "            # Setzt die tatsächliche Aktion für die Umgebung\n",
    "            action = vertical_action\n",
    "            if vertical_action == 0:\n",
    "                action = horizontal_action if abs(x_action) > abs(theta_action) else angle_action\n",
    "\n",
    "            state, reward, done, _, _ = env.step(action)\n",
    "            \n",
    "            # Beendet die Episode, wenn erfolgreich gelandet\n",
    "            if left_foot and right_food and abs(velocity_y) < 0.005:\n",
    "                done = True\n",
    "            total_reward += reward\n",
    "\n",
    "        total_rewards.append(total_reward)\n",
    "        print(f\"Episode {episode}: {total_reward}\")\n",
    "        print(f\"Landing on ({coord_x:.2f},{coord_y:.2f}) with velocity = {velocity_y:.2f}\")\n",
    "\n",
    "    env.close()\n",
    "    # Ausgabe der durchschnittlichen Belohnung aller Episoden\n",
    "    print(f\"Mean Reward over {n_episodes} episode(s): {np.mean(total_rewards)}\")"
   ]
  },
  {
   "cell_type": "markdown",
   "metadata": {},
   "source": [
    "## Training"
   ]
  },
  {
   "cell_type": "markdown",
   "metadata": {},
   "source": [
    "Im Trainingsteil des Projekts wird die `GeneticAlgorithm`-Klasse instanziiert, um eine evolutionäre Suche nach den besten Satz von PID-Parametern für die gezielte Steuerung des LunarLanders durchzuführen.\n",
    "\n",
    "**Trainieren des genetischen Algorithmus**:\n",
    "- **Parameterinitialisierung**: Der genetische Algorithmus wird mit bestimmten Parametern eingerichtet:\n",
    "\n",
    "    1. Eine `population_size` von 75 garantiert, dass eine signifikante Anzahl individueller PID-Parameterkombinationen untersucht wird.\n",
    "    2. Die `mutation_rate` von 0.1 sorgt für regelmäßige genetische Veränderungen innerhalb der Population, um die Vielfalt zu erhalten und die Möglichkeit zu geben, aus lokalen Optima auszubrechen.\n",
    "    3. Der Algorithmus ist konfiguriert, über `num_generations` von 50 zu laufen, was genug Iterationsschritte für die Konvergenz zu einem optimalen Lösungspunkt bereitstellen sollte.\n",
    "    4. `n_episodes` von 8 bestimmt die Anzahl der Testepisoden, die verwendet werden, um den Fitnesswert eines jeden Individuums während des Trainingsprozesses zu bewerten.\n",
    "\n",
    "- **Ausführung des genetischen Algorithmus**: Durch die Methode `run` des `GA_PARAMS` Objekts wird der gesamte evolutive Suchprozess gestartet.\n",
    "\n",
    "    1. Dabei arbeitet der Algorithmus daran, über die definierte Anzahl an Generationen hinweg die bestmöglichen PID-Parameter zu identifizieren.\n",
    "    2. Das Training gibt die besten gefundenen PID-Parameter (`best_pid_params`) zurück, sowie eine Aufzeichnung der Gesamtfitness während des Trainingspfads (`total_fitness_training`), die nützliche Informationen über den Fortschritt und die Entwicklung der Fitnesswerte liefern kann."
   ]
  },
  {
   "cell_type": "code",
   "execution_count": 24,
   "metadata": {},
   "outputs": [
    {
     "name": "stdout",
     "output_type": "stream",
     "text": [
      "Generation 1, Best Fitness: 137.57773429471553\n",
      "Generation 2, Best Fitness: 147.9718855164872\n",
      "Generation 3, Best Fitness: 146.74641357652433\n",
      "Generation 4, Best Fitness: 161.93559847773804\n",
      "Generation 5, Best Fitness: 167.05549004384991\n",
      "Generation 6, Best Fitness: 173.0408871249565\n",
      "Generation 7, Best Fitness: 177.66757422865513\n",
      "Generation 8, Best Fitness: 177.37072830942645\n",
      "Generation 9, Best Fitness: 171.3273633594608\n",
      "Generation 10, Best Fitness: 176.4716422242517\n",
      "Generation 11, Best Fitness: 172.64395994404978\n",
      "Generation 12, Best Fitness: 172.58586701853346\n",
      "Generation 13, Best Fitness: 181.30773827860133\n",
      "Generation 14, Best Fitness: 174.65456476242713\n",
      "Generation 15, Best Fitness: 173.3835925527942\n",
      "Generation 16, Best Fitness: 172.01735205398606\n",
      "Generation 17, Best Fitness: 175.63728471386756\n",
      "Generation 18, Best Fitness: 175.18294945198795\n",
      "Generation 19, Best Fitness: 176.45697494476826\n",
      "Generation 20, Best Fitness: 177.75635882336377\n",
      "Generation 21, Best Fitness: 171.17046528912047\n",
      "Generation 22, Best Fitness: 178.27710703034302\n",
      "Generation 23, Best Fitness: 173.96298681216686\n",
      "Generation 24, Best Fitness: 181.5908790991427\n",
      "Generation 25, Best Fitness: 178.2483367822341\n",
      "Generation 26, Best Fitness: 173.76203360157393\n",
      "Generation 27, Best Fitness: 178.47783607590904\n",
      "Generation 28, Best Fitness: 177.51618390335852\n",
      "Generation 29, Best Fitness: 178.01970983404308\n",
      "Generation 30, Best Fitness: 174.91805460605616\n",
      "Generation 31, Best Fitness: 178.94347532902484\n",
      "Generation 32, Best Fitness: 175.4175884334673\n",
      "Generation 33, Best Fitness: 189.16661054918526\n",
      "Generation 34, Best Fitness: 178.4788932753057\n",
      "Generation 35, Best Fitness: 177.87860604501032\n",
      "Generation 36, Best Fitness: 183.09803694250073\n",
      "Generation 37, Best Fitness: 180.03890452562\n",
      "Generation 38, Best Fitness: 176.97753184299842\n",
      "Generation 39, Best Fitness: 185.4576518090231\n",
      "Generation 40, Best Fitness: 179.19403581259107\n",
      "Generation 41, Best Fitness: 178.83708457878737\n",
      "Generation 42, Best Fitness: 177.47043084895157\n",
      "Generation 43, Best Fitness: 172.23404651386025\n",
      "Generation 44, Best Fitness: 183.2442854470371\n",
      "Generation 45, Best Fitness: 182.07088113044864\n",
      "Generation 46, Best Fitness: 178.13616387557693\n",
      "Generation 47, Best Fitness: 186.21788167305607\n",
      "Generation 48, Best Fitness: 180.0527781815282\n",
      "Generation 49, Best Fitness: 175.84400004999063\n",
      "Generation 50, Best Fitness: 185.33368238097916\n"
     ]
    }
   ],
   "source": [
    "GA_PARAMS = GeneticAlgorithm(\n",
    "        population_size=75,\n",
    "        mutation_rate=0.1,\n",
    "        num_generations=50,\n",
    "        n_episodes=8\n",
    "    )\n",
    "\n",
    "# Ausführen des genetischen Algorithmus um die besten PID-Parameter zu erhalten\n",
    "best_pid_params, total_fitness_training = GA_PARAMS.run()"
   ]
  },
  {
   "cell_type": "code",
   "execution_count": 25,
   "metadata": {},
   "outputs": [
    {
     "name": "stdout",
     "output_type": "stream",
     "text": [
      "Best PID Parameters:\n",
      "Vertical PID: [4.06500033 0.08770211 0.90486819]\n",
      "Horizontal PID: [1.78586802 1.87839679 0.17667697]\n",
      "Angle PID: [3.98658869 3.991949   0.75611587]\n"
     ]
    }
   ],
   "source": [
    "# Ausgabe der besten PID-Parameter\n",
    "print(\"Best PID Parameters:\")\n",
    "print(\"Vertical PID:\", best_pid_params[:3])\n",
    "print(\"Horizontal PID:\", best_pid_params[3:6])\n",
    "print(\"Angle PID:\", best_pid_params[6:9])"
   ]
  },
  {
   "cell_type": "code",
   "execution_count": 26,
   "metadata": {},
   "outputs": [
    {
     "data": {
      "image/png": "[encoded data removed]",
      "text/plain": [
       "<Figure size 1200x600 with 1 Axes>"
      ]
     },
     "metadata": {},
     "output_type": "display_data"
    }
   ],
   "source": [
    "# Plot: des Lernfortschritts\n",
    "plt.figure(figsize=(12, 6))\n",
    "plt.plot(range(GA_PARAMS.num_generations), total_fitness_training, marker='o')\n",
    "plt.title('Entwicklung des besten Scores über Generationen')\n",
    "plt.xlabel('Generation')\n",
    "plt.ylabel('Best Score')\n",
    "plt.grid()\n",
    "plt.show()"
   ]
  },
  {
   "cell_type": "markdown",
   "metadata": {},
   "source": [
    "Der obige Plot illustriert die Entwicklung des besten Scores im Verlauf des genetischen Trainings über 50 Generationen. Man erkennt zu Beginn eine deutliche Verbesserung der Scores, was darauf hindeutet, dass die Population schnell geeignete PID-Parameterkombinationen evaluiert und selektiert.\n",
    "\n",
    "Zwischen den Generationen 10 und 30 gibt es gewisse Schwankungen, die durch die natürliche Variation und Rekombination innerhalb der Population bedingt sind. Jedoch zeigt der Trend insgesamt, dass sich die Scores stabilisieren und im Bereich von 180 bis 190 Punkten einpendeln, was auf eine erfolgreiche Konvergenz hinweist."
   ]
  },
  {
   "cell_type": "code",
   "execution_count": 28,
   "metadata": {},
   "outputs": [
    {
     "name": "stdout",
     "output_type": "stream",
     "text": [
      "\n",
      "Playing with the best parameters...\n",
      "\n",
      "Episode 0: 162.54528255234078\n",
      "Landing on (0.05,-0.00) with velocity = -0.00\n",
      "Episode 1: 167.19647133904377\n",
      "Landing on (0.04,-0.00) with velocity = 0.00\n",
      "Episode 2: 180.0382786419719\n",
      "Landing on (0.03,0.00) with velocity = -0.00\n",
      "Episode 3: 208.37615018992145\n",
      "Landing on (-0.01,-0.01) with velocity = 0.00\n",
      "Episode 4: 147.8187817849003\n",
      "Landing on (0.04,-0.00) with velocity = -0.00\n",
      "Episode 5: 184.6007895634814\n",
      "Landing on (0.08,-0.02) with velocity = -0.00\n",
      "Episode 6: 161.05269020949274\n",
      "Landing on (0.01,-0.00) with velocity = -0.00\n",
      "Episode 7: 155.759584189824\n",
      "Landing on (-0.07,-0.01) with velocity = -0.00\n",
      "Episode 8: 188.9598798493593\n",
      "Landing on (-0.02,-0.00) with velocity = -0.00\n",
      "Episode 9: 175.87687508304288\n",
      "Landing on (-0.00,-0.00) with velocity = -0.00\n",
      "Mean Reward over 10 episode(s): 173.22247834033786\n"
     ]
    }
   ],
   "source": [
    "# Visualisierung des Lernfortschrittes für die besten Parameter\n",
    "print(\"\\nPlaying with the best parameters...\\n\")\n",
    "play_with_best_params(best_pid_params, n_episodes=10)"
   ]
  },
  {
   "cell_type": "markdown",
   "metadata": {},
   "source": [
    "## Fazit"
   ]
  },
  {
   "cell_type": "markdown",
   "metadata": {},
   "source": [
    "Das Fazit zu diesem Projekt zeigt, dass der Einsatz eines genetischen Algorithmus zur Optimierung der PID-Parameter zwar knapp nicht das gewünschte Ziel von 200 Punkten erreicht hat, dennoch eine bemerkenswerte Leistung erzielt wurde. Die erzielten Scores liegen konstant im Bereich von 180 bis 190 Punkten, was auf eine robuste Steuerstrategie hinweist, die sich in ihrer Ausführung als besonders konsistent erweist.\n",
    "\n",
    "Diese Konsistenz ist von großer Bedeutung, da sie beweist, dass der Lander oft sehr nahe an den idealen Bedingungen arbeitet und zuverlässig gut performt, obwohl das absolute Punktziel nicht vollständig erreicht wurde. Solch ein konsistentes Verhalten ist in dynamischen Systemen wertvoll, da es nicht nur die Leistung, sondern auch die Zuverlässigkeit und den sicheren Betrieb des Landers sicherstellt."
   ]
  }
 ],
 "metadata": {
  "kernelspec": {
   "display_name": "Python 3",
   "language": "python",
   "name": "python3"
  },
  "language_info": {
   "codemirror_mode": {
    "name": "ipython",
    "version": 3
   },
   "file_extension": ".py",
   "mimetype": "text/x-python",
   "name": "python",
   "nbconvert_exporter": "python",
   "pygments_lexer": "ipython3",
   "version": "3.10.7"
  }
 },
 "nbformat": 4,
 "nbformat_minor": 2
}
